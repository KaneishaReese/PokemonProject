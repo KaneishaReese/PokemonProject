


# Import packages
import pandas as pd
import seaborn as sns








# Import csv to DataFrame
exp_types_df = pd.read_csv('../data/raw/exp_types.csv', skiprows = 2, 
                           names = ['Erratic_total_xp','Fast_total_xp','Medium_Fast_total_xp',
                                    'Medium_Slow_total_xp','Slow_total_xp','Fluctuating_total_xp',
                                    'Level','Erratic_next_lvl','Fast_next_lvl','Medium_Fast_next_lvl',
                                    'Medium_Slow_next_lvl','Slow_next_lvl','Fluctuating_next_lvl'],
                           index_col='Level')
                         


exp_types_df.head()


exp_types_df.tail()


exp_types_df.info()


cols_to_convert = [
    'Erratic_next_lvl', 'Fast_next_lvl', 'Medium_Fast_next_lvl',
    'Medium_Slow_next_lvl', 'Slow_next_lvl', 'Fluctuating_next_lvl'
]
exp_types_df[cols_to_convert] = exp_types_df[cols_to_convert].replace('-', 0).astype(int)
exp_types_df.info()





trainers_df = pd.read_csv('../data/raw/trainers.csv', index_col=0)
trainers_df.head()


trainers_df.info()


trainers_df.describe()


trainers_df['number.of.pokemon'].unique()


trainers_df[trainers_df['number.of.pokemon']==0]
